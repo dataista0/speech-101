{
 "cells": [
  {
   "cell_type": "markdown",
   "id": "dfac2bde",
   "metadata": {},
   "source": [
    "# Day 1 - NB3 - Google Speech Commands Dataset\n",
    "\n",
    "# Resources:\n",
    "* [Launching the Speech Commands Dataset](https://ai.googleblog.com/2017/08/launching-speech-commands-dataset.html) - Blogpost -  August 24, 2017\n",
    "* [TensorFlow Speech Recognition Challenge](https://www.kaggle.com/c/tensorflow-speech-recognition-challenge) - Kaggle Competition - November 15, 2017 - January 16, 2018\n",
    "\n",
    "\n",
    "# Launching the Speech Commands Dataset\n",
    "**[Launching the Speech Commands Dataset](https://ai.googleblog.com/2017/08/launching-speech-commands-dataset.html) -  August 24, 2017**\n",
    "\n",
    "> The dataset has 65,000 one-second long utterances of 30 short words, by thousands of different people\n",
    "\n",
    "Architecture: \n",
    "> Convolutional Neural Networks for Small-footprint Keyword Spotting\n",
    "\n",
    "The link to the TF tutorial is broken. [Here](https://www.tensorflow.org/tutorials/audio/simple_audio) I found a new version, but it seems to use another dataset (`mini_speech_commands`)."
   ]
  },
  {
   "cell_type": "markdown",
   "id": "ef9f4880",
   "metadata": {},
   "source": [
    "# TensorFlow Speech Recognition Challenge\n",
    "**[TensorFlow Speech Recognition Challenge](https://www.kaggle.com/c/tensorflow-speech-recognition-challenge) - November 15, 2017 - January 16, 2018**\n",
    "\n",
    "The competition is based on this dataset and released almost together with it.\n",
    "\n",
    "To download the data, run this from the base path of the repo (`../` from here)\n",
    "```bash\n",
    "mkdir data\n",
    "kaggle competitions download -c tensorflow-speech-recognition-challenge -p data/\n",
    "```\n",
    "\n",
    "## Data\n",
    "**[Competition's data tab](https://www.kaggle.com/c/tensorflow-speech-recognition-challenge/data)**\n",
    "\n",
    "**train.7z** \n",
    "* subfolder name being the label of the audio clip. \n",
    "* more labels that should be predicted. \n",
    "* Predict: `yes, no, up, down, left, right, on, off, stop, go`\n",
    "* Everything else should be considered either `unknown` or `silence`. \n",
    "* The folder _background_noise_ contains longer clips of \"silence\" that you can break up and use as training input.\n",
    "* The files contained in the training audio are not uniquely named across labels, but they are unique if you include the label folder. \n",
    "\n",
    "* The files are named so the first element is the subject id of the person who gave the voice command, and the last element indicated repeated commands. \n",
    "* Repeated commands are when the subject repeats the same word multiple times. \n",
    "* Subject id is not provided for the test data, and you can assume that the majority of commands in the test data were from subjects not seen in train.\n",
    "* You can expect some inconsistencies in the properties of the training data (e.g., length of the audio)."
   ]
  },
  {
   "cell_type": "markdown",
   "id": "c1dcc309",
   "metadata": {},
   "source": [
    "# Most voted EDA notebook from this competion:\n",
    "**[Speech representation and data exploration](https://www.kaggle.com/davids1992/speech-representation-and-data-exploration)**\n",
    "\n",
    "Let's take a look at this notebook!\n",
    "\n"
   ]
  },
  {
   "cell_type": "markdown",
   "id": "492d4002",
   "metadata": {},
   "source": [
    "# Important news: the competition [BirdCLEF 2022](https://www.kaggle.com/c/birdclef-2022) was launched today. I will shift my focus there (at least for now) since an ongoing competition is much more engaging than a closed one.\n",
    "\n",
    "The research continues with [public kernels in that competition](https://www.kaggle.com/c/birdclef-2022/code?competitionId=33246&searchQuery=julian3833).\n",
    "\n",
    "The first one I wrote is a small exploration of the 1D nature of sound and an artificial generation of musical notes using a `sin` function:\n",
    "* [🐦Audio 101- 1) Audio manipulation & musical notes](https://www.kaggle.com/julian3833/audio-101-1-audio-manipulation-musical-notes)"
   ]
  }
 ],
 "metadata": {
  "kernelspec": {
   "display_name": "Python 3 (ipykernel)",
   "language": "python",
   "name": "python3"
  },
  "language_info": {
   "codemirror_mode": {
    "name": "ipython",
    "version": 3
   },
   "file_extension": ".py",
   "mimetype": "text/x-python",
   "name": "python",
   "nbconvert_exporter": "python",
   "pygments_lexer": "ipython3",
   "version": "3.8.12"
  }
 },
 "nbformat": 4,
 "nbformat_minor": 5
}
