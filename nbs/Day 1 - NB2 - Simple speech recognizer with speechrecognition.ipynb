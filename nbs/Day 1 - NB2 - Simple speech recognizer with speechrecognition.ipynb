{
 "cells": [
  {
   "cell_type": "markdown",
   "id": "30909862",
   "metadata": {},
   "source": [
    "# Day 1 - NB2 - Simple speech recognizer with speechrecognition\n",
    "\n",
    "In this notebook we watch 2 short python video tutorials and code a simple speech-to-command script.\n",
    "\n",
    "\n",
    "- [Video 3: Speech Recognition in Python](#Video-3:-Speech-Recognition-in-Python)\n",
    "- [Video 4: Speech Recognition Using Python | How Speech Recognition Works In Python | Simplilearn](#Video-4:-Speech-Recognition-Using-Python-|-How-Speech-Recognition-Works-In-Python-|-Simplilearn)\n",
    "- [Voice command script](#Voice-command-script)"
   ]
  },
  {
   "cell_type": "markdown",
   "id": "040d0a7b",
   "metadata": {},
   "source": [
    "# Video 3: Speech Recognition in Python\n",
    "**[Speech Recognition in Python](https://www.youtube.com/watch?v=9GJ6XeB-vMg)**\n",
    "\n",
    "\n",
    "### To install pyaudio:\n",
    "\n",
    "At a system level:\n",
    "\n",
    "```\n",
    "sudo apt install python3-pyaudio\n",
    "```\n",
    "\n",
    "At an environment level:\n",
    "\n",
    "```\n",
    "sudo apt install portaudio19-dev\n",
    "pip install pyaudio\n",
    "```"
   ]
  },
  {
   "cell_type": "code",
   "execution_count": 1,
   "id": "d0b3ba9f",
   "metadata": {},
   "outputs": [
    {
     "name": "stdout",
     "output_type": "stream",
     "text": [
      "Requirement already satisfied: speechrecognition in /home/dataista/anaconda3/envs/speech/lib/python3.8/site-packages (3.8.1)\r\n",
      "Requirement already satisfied: pyttsx3 in /home/dataista/anaconda3/envs/speech/lib/python3.8/site-packages (2.90)\r\n"
     ]
    }
   ],
   "source": [
    "!pip install speechrecognition pyttsx3 "
   ]
  },
  {
   "cell_type": "markdown",
   "id": "41fbe617",
   "metadata": {},
   "source": [
    "## English speech recognizer"
   ]
  },
  {
   "cell_type": "code",
   "execution_count": 2,
   "id": "71cb3b07",
   "metadata": {},
   "outputs": [],
   "source": [
    "import speech_recognition"
   ]
  },
  {
   "cell_type": "code",
   "execution_count": 4,
   "id": "2c4f18c3",
   "metadata": {},
   "outputs": [
    {
     "name": "stdout",
     "output_type": "stream",
     "text": [
      "Recognized: hello hello\n",
      "Recognized: hi how are you doing\n",
      "Recognized: hey siri\n",
      "Recognized: speech recognition is an interdisciplinary subfield of computer science and computation of linguistics that develops methodologies and technologies that enable the recognition and translation of spoken language into text by computers with the main benefit of searchability\n",
      "Recognized: okay this is snoot\n",
      "Recognized: meet not snoot\n",
      "Recognized: meet\n",
      "Recognized: meet\n",
      "Recognized: meet\n",
      "Recognized: neat\n",
      "Recognized: okay that's okay so i should have extended my esound\n",
      "Recognized: it takes some time to recognize this audio do\n",
      "Exiting loop\n"
     ]
    }
   ],
   "source": [
    "\n",
    "recognizer = speech_recognition.Recognizer()\n",
    "while True:\n",
    "    try:\n",
    "        with speech_recognition.Microphone() as mic:\n",
    "            recognizer.adjust_for_ambient_noise(mic, duration=0.2)\n",
    "            audio = recognizer.listen(mic)\n",
    "            text = recognizer.recognize_google(audio)\n",
    "            text = text.lower()\n",
    "            print(f\"Recognized: {text}\")\n",
    "    except speech_recognition.UnknownValueError:\n",
    "        recognizer = speech_recognition.Recognizer()\n",
    "        continue\n",
    "    except KeyboardInterrupt:\n",
    "        print(\"Exiting loop\")\n",
    "        break"
   ]
  },
  {
   "cell_type": "markdown",
   "id": "e999b369",
   "metadata": {},
   "source": [
    "## Spanish: doesn't work out of the box"
   ]
  },
  {
   "cell_type": "code",
   "execution_count": 9,
   "id": "bc75c35c",
   "metadata": {},
   "outputs": [
    {
     "name": "stdout",
     "output_type": "stream",
     "text": [
      "recognition request failed: Forbidden\n"
     ]
    }
   ],
   "source": [
    "recognizer = speech_recognition.Recognizer()\n",
    "while True:\n",
    "    try:\n",
    "        with speech_recognition.Microphone() as mic:\n",
    "            recognizer.adjust_for_ambient_noise(mic, duration=0.2)\n",
    "            audio = recognizer.listen(mic)\n",
    "            text = recognizer.recognize_google(audio, 'es-AR')\n",
    "            text = text.lower()\n",
    "            print(f\"Recognized: {text}\")\n",
    "    except speech_recognition.UnknownValueError:\n",
    "        recognizer = speech_recognition.Recognizer()\n",
    "        continue\n",
    "    except KeyboardInterrupt:\n",
    "        print(\"Exiting loop\")\n",
    "        break\n",
    "    except Exception as e:\n",
    "        print(e)\n",
    "        break"
   ]
  },
  {
   "cell_type": "markdown",
   "id": "1dc5412e",
   "metadata": {},
   "source": [
    "# Video 4: Speech Recognition Using Python | How Speech Recognition Works In Python | Simplilearn\n",
    "**[Speech Recognition Using Python | How Speech Recognition Works In Python | Simplilearn](https://www.youtube.com/watch?v=PWVH3Vx3dCI)**"
   ]
  },
  {
   "cell_type": "code",
   "execution_count": 10,
   "id": "669f0d9b",
   "metadata": {},
   "outputs": [
    {
     "name": "stdout",
     "output_type": "stream",
     "text": [
      "Requirement already satisfied: SpeechRecognition in /home/dataista/anaconda3/envs/speech/lib/python3.8/site-packages (3.8.1)\n",
      "Collecting apiai\n",
      "  Downloading apiai-1.2.3-py2.py3-none-any.whl (15 kB)\n",
      "Collecting numpy\n",
      "  Downloading numpy-1.22.2-cp38-cp38-manylinux_2_17_x86_64.manylinux2014_x86_64.whl (16.8 MB)\n",
      "\u001b[K     |████████████████████████████████| 16.8 MB 11.3 MB/s eta 0:00:01\n",
      "\u001b[?25hInstalling collected packages: numpy, apiai\n",
      "Successfully installed apiai-1.2.3 numpy-1.22.2\n"
     ]
    }
   ],
   "source": [
    "!pip install SpeechRecognition\n",
    "!pip install apiai"
   ]
  },
  {
   "cell_type": "code",
   "execution_count": 11,
   "id": "275dd23a",
   "metadata": {},
   "outputs": [],
   "source": [
    "import speech_recognition as sr\n",
    "import pyttsx3"
   ]
  },
  {
   "cell_type": "markdown",
   "id": "b7c052b1",
   "metadata": {},
   "source": [
    "### TTS with `pyttsx3`"
   ]
  },
  {
   "cell_type": "code",
   "execution_count": 13,
   "id": "8e8e27d8",
   "metadata": {},
   "outputs": [],
   "source": [
    "def speak_text(command):\n",
    "    engine = pyttsx3.init()\n",
    "    engine.say(command)\n",
    "    engine.runAndWait()"
   ]
  },
  {
   "cell_type": "code",
   "execution_count": 14,
   "id": "6fb7cdf2",
   "metadata": {},
   "outputs": [
    {
     "ename": "OSError",
     "evalue": "libespeak.so.1: cannot open shared object file: No such file or directory",
     "output_type": "error",
     "traceback": [
      "\u001b[0;31m---------------------------------------------------------------------------\u001b[0m",
      "\u001b[0;31mKeyError\u001b[0m                                  Traceback (most recent call last)",
      "File \u001b[0;32m~/anaconda3/envs/speech/lib/python3.8/site-packages/pyttsx3/__init__.py:20\u001b[0m, in \u001b[0;36minit\u001b[0;34m(driverName, debug)\u001b[0m\n\u001b[1;32m     19\u001b[0m \u001b[38;5;28;01mtry\u001b[39;00m:\n\u001b[0;32m---> 20\u001b[0m     eng \u001b[38;5;241m=\u001b[39m \u001b[43m_activeEngines\u001b[49m\u001b[43m[\u001b[49m\u001b[43mdriverName\u001b[49m\u001b[43m]\u001b[49m\n\u001b[1;32m     21\u001b[0m \u001b[38;5;28;01mexcept\u001b[39;00m \u001b[38;5;167;01mKeyError\u001b[39;00m:\n",
      "File \u001b[0;32m~/anaconda3/envs/speech/lib/python3.8/weakref.py:131\u001b[0m, in \u001b[0;36mWeakValueDictionary.__getitem__\u001b[0;34m(self, key)\u001b[0m\n\u001b[1;32m    130\u001b[0m     \u001b[38;5;28mself\u001b[39m\u001b[38;5;241m.\u001b[39m_commit_removals()\n\u001b[0;32m--> 131\u001b[0m o \u001b[38;5;241m=\u001b[39m \u001b[38;5;28;43mself\u001b[39;49m\u001b[38;5;241;43m.\u001b[39;49m\u001b[43mdata\u001b[49m\u001b[43m[\u001b[49m\u001b[43mkey\u001b[49m\u001b[43m]\u001b[49m()\n\u001b[1;32m    132\u001b[0m \u001b[38;5;28;01mif\u001b[39;00m o \u001b[38;5;129;01mis\u001b[39;00m \u001b[38;5;28;01mNone\u001b[39;00m:\n",
      "\u001b[0;31mKeyError\u001b[0m: None",
      "\nDuring handling of the above exception, another exception occurred:\n",
      "\u001b[0;31mOSError\u001b[0m                                   Traceback (most recent call last)",
      "Input \u001b[0;32mIn [14]\u001b[0m, in \u001b[0;36m<module>\u001b[0;34m\u001b[0m\n\u001b[0;32m----> 1\u001b[0m \u001b[43mspeak_text\u001b[49m\u001b[43m(\u001b[49m\u001b[38;5;124;43m\"\u001b[39;49m\u001b[38;5;124;43mhello world\u001b[39;49m\u001b[38;5;124;43m\"\u001b[39;49m\u001b[43m)\u001b[49m\n",
      "Input \u001b[0;32mIn [13]\u001b[0m, in \u001b[0;36mspeak_text\u001b[0;34m(command)\u001b[0m\n\u001b[1;32m      1\u001b[0m \u001b[38;5;28;01mdef\u001b[39;00m \u001b[38;5;21mspeak_text\u001b[39m(command):\n\u001b[0;32m----> 2\u001b[0m     engine \u001b[38;5;241m=\u001b[39m \u001b[43mpyttsx3\u001b[49m\u001b[38;5;241;43m.\u001b[39;49m\u001b[43minit\u001b[49m\u001b[43m(\u001b[49m\u001b[43m)\u001b[49m\n\u001b[1;32m      3\u001b[0m     engine\u001b[38;5;241m.\u001b[39msay(command)\n\u001b[1;32m      4\u001b[0m     engine\u001b[38;5;241m.\u001b[39mrunAndWait()\n",
      "File \u001b[0;32m~/anaconda3/envs/speech/lib/python3.8/site-packages/pyttsx3/__init__.py:22\u001b[0m, in \u001b[0;36minit\u001b[0;34m(driverName, debug)\u001b[0m\n\u001b[1;32m     20\u001b[0m     eng \u001b[38;5;241m=\u001b[39m _activeEngines[driverName]\n\u001b[1;32m     21\u001b[0m \u001b[38;5;28;01mexcept\u001b[39;00m \u001b[38;5;167;01mKeyError\u001b[39;00m:\n\u001b[0;32m---> 22\u001b[0m     eng \u001b[38;5;241m=\u001b[39m \u001b[43mEngine\u001b[49m\u001b[43m(\u001b[49m\u001b[43mdriverName\u001b[49m\u001b[43m,\u001b[49m\u001b[43m \u001b[49m\u001b[43mdebug\u001b[49m\u001b[43m)\u001b[49m\n\u001b[1;32m     23\u001b[0m     _activeEngines[driverName] \u001b[38;5;241m=\u001b[39m eng\n\u001b[1;32m     24\u001b[0m \u001b[38;5;28;01mreturn\u001b[39;00m eng\n",
      "File \u001b[0;32m~/anaconda3/envs/speech/lib/python3.8/site-packages/pyttsx3/engine.py:30\u001b[0m, in \u001b[0;36mEngine.__init__\u001b[0;34m(self, driverName, debug)\u001b[0m\n\u001b[1;32m     20\u001b[0m \u001b[38;5;28;01mdef\u001b[39;00m \u001b[38;5;21m__init__\u001b[39m(\u001b[38;5;28mself\u001b[39m, driverName\u001b[38;5;241m=\u001b[39m\u001b[38;5;28;01mNone\u001b[39;00m, debug\u001b[38;5;241m=\u001b[39m\u001b[38;5;28;01mFalse\u001b[39;00m):\n\u001b[1;32m     21\u001b[0m     \u001b[38;5;124;03m\"\"\"\u001b[39;00m\n\u001b[1;32m     22\u001b[0m \u001b[38;5;124;03m    Constructs a new TTS engine instance.\u001b[39;00m\n\u001b[1;32m     23\u001b[0m \n\u001b[0;32m   (...)\u001b[0m\n\u001b[1;32m     28\u001b[0m \u001b[38;5;124;03m    @type debug: bool\u001b[39;00m\n\u001b[1;32m     29\u001b[0m \u001b[38;5;124;03m    \"\"\"\u001b[39;00m\n\u001b[0;32m---> 30\u001b[0m     \u001b[38;5;28mself\u001b[39m\u001b[38;5;241m.\u001b[39mproxy \u001b[38;5;241m=\u001b[39m \u001b[43mdriver\u001b[49m\u001b[38;5;241;43m.\u001b[39;49m\u001b[43mDriverProxy\u001b[49m\u001b[43m(\u001b[49m\u001b[43mweakref\u001b[49m\u001b[38;5;241;43m.\u001b[39;49m\u001b[43mproxy\u001b[49m\u001b[43m(\u001b[49m\u001b[38;5;28;43mself\u001b[39;49m\u001b[43m)\u001b[49m\u001b[43m,\u001b[49m\u001b[43m \u001b[49m\u001b[43mdriverName\u001b[49m\u001b[43m,\u001b[49m\u001b[43m \u001b[49m\u001b[43mdebug\u001b[49m\u001b[43m)\u001b[49m\n\u001b[1;32m     31\u001b[0m     \u001b[38;5;66;03m# initialize other vars\u001b[39;00m\n\u001b[1;32m     32\u001b[0m     \u001b[38;5;28mself\u001b[39m\u001b[38;5;241m.\u001b[39m_connects \u001b[38;5;241m=\u001b[39m {}\n",
      "File \u001b[0;32m~/anaconda3/envs/speech/lib/python3.8/site-packages/pyttsx3/driver.py:50\u001b[0m, in \u001b[0;36mDriverProxy.__init__\u001b[0;34m(self, engine, driverName, debug)\u001b[0m\n\u001b[1;32m     48\u001b[0m \u001b[38;5;66;03m# import driver module\u001b[39;00m\n\u001b[1;32m     49\u001b[0m name \u001b[38;5;241m=\u001b[39m \u001b[38;5;124m'\u001b[39m\u001b[38;5;124mpyttsx3.drivers.\u001b[39m\u001b[38;5;132;01m%s\u001b[39;00m\u001b[38;5;124m'\u001b[39m \u001b[38;5;241m%\u001b[39m driverName\n\u001b[0;32m---> 50\u001b[0m \u001b[38;5;28mself\u001b[39m\u001b[38;5;241m.\u001b[39m_module \u001b[38;5;241m=\u001b[39m \u001b[43mimportlib\u001b[49m\u001b[38;5;241;43m.\u001b[39;49m\u001b[43mimport_module\u001b[49m\u001b[43m(\u001b[49m\u001b[43mname\u001b[49m\u001b[43m)\u001b[49m\n\u001b[1;32m     51\u001b[0m \u001b[38;5;66;03m# build driver instance\u001b[39;00m\n\u001b[1;32m     52\u001b[0m \u001b[38;5;28mself\u001b[39m\u001b[38;5;241m.\u001b[39m_driver \u001b[38;5;241m=\u001b[39m \u001b[38;5;28mself\u001b[39m\u001b[38;5;241m.\u001b[39m_module\u001b[38;5;241m.\u001b[39mbuildDriver(weakref\u001b[38;5;241m.\u001b[39mproxy(\u001b[38;5;28mself\u001b[39m))\n",
      "File \u001b[0;32m~/anaconda3/envs/speech/lib/python3.8/importlib/__init__.py:127\u001b[0m, in \u001b[0;36mimport_module\u001b[0;34m(name, package)\u001b[0m\n\u001b[1;32m    125\u001b[0m             \u001b[38;5;28;01mbreak\u001b[39;00m\n\u001b[1;32m    126\u001b[0m         level \u001b[38;5;241m+\u001b[39m\u001b[38;5;241m=\u001b[39m \u001b[38;5;241m1\u001b[39m\n\u001b[0;32m--> 127\u001b[0m \u001b[38;5;28;01mreturn\u001b[39;00m \u001b[43m_bootstrap\u001b[49m\u001b[38;5;241;43m.\u001b[39;49m\u001b[43m_gcd_import\u001b[49m\u001b[43m(\u001b[49m\u001b[43mname\u001b[49m\u001b[43m[\u001b[49m\u001b[43mlevel\u001b[49m\u001b[43m:\u001b[49m\u001b[43m]\u001b[49m\u001b[43m,\u001b[49m\u001b[43m \u001b[49m\u001b[43mpackage\u001b[49m\u001b[43m,\u001b[49m\u001b[43m \u001b[49m\u001b[43mlevel\u001b[49m\u001b[43m)\u001b[49m\n",
      "File \u001b[0;32m<frozen importlib._bootstrap>:1014\u001b[0m, in \u001b[0;36m_gcd_import\u001b[0;34m(name, package, level)\u001b[0m\n",
      "File \u001b[0;32m<frozen importlib._bootstrap>:991\u001b[0m, in \u001b[0;36m_find_and_load\u001b[0;34m(name, import_)\u001b[0m\n",
      "File \u001b[0;32m<frozen importlib._bootstrap>:975\u001b[0m, in \u001b[0;36m_find_and_load_unlocked\u001b[0;34m(name, import_)\u001b[0m\n",
      "File \u001b[0;32m<frozen importlib._bootstrap>:671\u001b[0m, in \u001b[0;36m_load_unlocked\u001b[0;34m(spec)\u001b[0m\n",
      "File \u001b[0;32m<frozen importlib._bootstrap_external>:843\u001b[0m, in \u001b[0;36mexec_module\u001b[0;34m(self, module)\u001b[0m\n",
      "File \u001b[0;32m<frozen importlib._bootstrap>:219\u001b[0m, in \u001b[0;36m_call_with_frames_removed\u001b[0;34m(f, *args, **kwds)\u001b[0m\n",
      "File \u001b[0;32m~/anaconda3/envs/speech/lib/python3.8/site-packages/pyttsx3/drivers/espeak.py:9\u001b[0m, in \u001b[0;36m<module>\u001b[0;34m\u001b[0m\n\u001b[1;32m      7\u001b[0m \u001b[38;5;28;01mfrom\u001b[39;00m \u001b[38;5;21;01mtempfile\u001b[39;00m \u001b[38;5;28;01mimport\u001b[39;00m NamedTemporaryFile\n\u001b[1;32m      8\u001b[0m \u001b[38;5;28;01mfrom\u001b[39;00m \u001b[38;5;21;01m.\u001b[39;00m\u001b[38;5;21;01m.\u001b[39;00m\u001b[38;5;21;01mvoice\u001b[39;00m \u001b[38;5;28;01mimport\u001b[39;00m Voice\n\u001b[0;32m----> 9\u001b[0m \u001b[38;5;28;01mfrom\u001b[39;00m \u001b[38;5;21;01m.\u001b[39;00m \u001b[38;5;28;01mimport\u001b[39;00m _espeak, toUtf8, fromUtf8\n\u001b[1;32m     12\u001b[0m \u001b[38;5;28;01mdef\u001b[39;00m \u001b[38;5;21mbuildDriver\u001b[39m(proxy):\n\u001b[1;32m     13\u001b[0m     \u001b[38;5;28;01mreturn\u001b[39;00m EspeakDriver(proxy)\n",
      "File \u001b[0;32m~/anaconda3/envs/speech/lib/python3.8/site-packages/pyttsx3/drivers/_espeak.py:18\u001b[0m, in \u001b[0;36m<module>\u001b[0;34m\u001b[0m\n\u001b[1;32m     15\u001b[0m         aflags\u001b[38;5;241m.\u001b[39mappend((arg[\u001b[38;5;241m2\u001b[39m], arg[\u001b[38;5;241m0\u001b[39m]) \u001b[38;5;241m+\u001b[39m arg[\u001b[38;5;241m3\u001b[39m:])\n\u001b[1;32m     16\u001b[0m     \u001b[38;5;28;01mreturn\u001b[39;00m CFUNCTYPE(result, \u001b[38;5;241m*\u001b[39matypes)((name, dll), \u001b[38;5;28mtuple\u001b[39m(aflags))\n\u001b[0;32m---> 18\u001b[0m dll \u001b[38;5;241m=\u001b[39m \u001b[43mcdll\u001b[49m\u001b[38;5;241;43m.\u001b[39;49m\u001b[43mLoadLibrary\u001b[49m\u001b[43m(\u001b[49m\u001b[38;5;124;43m'\u001b[39;49m\u001b[38;5;124;43mlibespeak.so.1\u001b[39;49m\u001b[38;5;124;43m'\u001b[39;49m\u001b[43m)\u001b[49m\n\u001b[1;32m     20\u001b[0m \u001b[38;5;66;03m# constants and such from speak_lib.h\u001b[39;00m\n\u001b[1;32m     22\u001b[0m EVENT_LIST_TERMINATED \u001b[38;5;241m=\u001b[39m \u001b[38;5;241m0\u001b[39m\n",
      "File \u001b[0;32m~/anaconda3/envs/speech/lib/python3.8/ctypes/__init__.py:451\u001b[0m, in \u001b[0;36mLibraryLoader.LoadLibrary\u001b[0;34m(self, name)\u001b[0m\n\u001b[1;32m    450\u001b[0m \u001b[38;5;28;01mdef\u001b[39;00m \u001b[38;5;21mLoadLibrary\u001b[39m(\u001b[38;5;28mself\u001b[39m, name):\n\u001b[0;32m--> 451\u001b[0m     \u001b[38;5;28;01mreturn\u001b[39;00m \u001b[38;5;28;43mself\u001b[39;49m\u001b[38;5;241;43m.\u001b[39;49m\u001b[43m_dlltype\u001b[49m\u001b[43m(\u001b[49m\u001b[43mname\u001b[49m\u001b[43m)\u001b[49m\n",
      "File \u001b[0;32m~/anaconda3/envs/speech/lib/python3.8/ctypes/__init__.py:373\u001b[0m, in \u001b[0;36mCDLL.__init__\u001b[0;34m(self, name, mode, handle, use_errno, use_last_error, winmode)\u001b[0m\n\u001b[1;32m    370\u001b[0m \u001b[38;5;28mself\u001b[39m\u001b[38;5;241m.\u001b[39m_FuncPtr \u001b[38;5;241m=\u001b[39m _FuncPtr\n\u001b[1;32m    372\u001b[0m \u001b[38;5;28;01mif\u001b[39;00m handle \u001b[38;5;129;01mis\u001b[39;00m \u001b[38;5;28;01mNone\u001b[39;00m:\n\u001b[0;32m--> 373\u001b[0m     \u001b[38;5;28mself\u001b[39m\u001b[38;5;241m.\u001b[39m_handle \u001b[38;5;241m=\u001b[39m \u001b[43m_dlopen\u001b[49m\u001b[43m(\u001b[49m\u001b[38;5;28;43mself\u001b[39;49m\u001b[38;5;241;43m.\u001b[39;49m\u001b[43m_name\u001b[49m\u001b[43m,\u001b[49m\u001b[43m \u001b[49m\u001b[43mmode\u001b[49m\u001b[43m)\u001b[49m\n\u001b[1;32m    374\u001b[0m \u001b[38;5;28;01melse\u001b[39;00m:\n\u001b[1;32m    375\u001b[0m     \u001b[38;5;28mself\u001b[39m\u001b[38;5;241m.\u001b[39m_handle \u001b[38;5;241m=\u001b[39m handle\n",
      "\u001b[0;31mOSError\u001b[0m: libespeak.so.1: cannot open shared object file: No such file or directory"
     ]
    }
   ],
   "source": [
    "speak_text(\"hello world\")"
   ]
  },
  {
   "cell_type": "markdown",
   "id": "8fa14f48",
   "metadata": {},
   "source": [
    "Trying [this](https://stackoverflow.com/questions/65274843/oserror-libespeak-so-1-cannot-open-shared-object-file-no-such-file-or-directo):\n",
    "```\n",
    "sudo apt install espeak\n",
    "```\n",
    "\n",
    "Works!"
   ]
  },
  {
   "cell_type": "code",
   "execution_count": 19,
   "id": "366f42ea",
   "metadata": {},
   "outputs": [],
   "source": [
    "# It works but it's terrible\n",
    "speak_text(\"hello world!\")"
   ]
  },
  {
   "cell_type": "code",
   "execution_count": 22,
   "id": "59502b71",
   "metadata": {},
   "outputs": [],
   "source": [
    "engine = pyttsx3.init(\"espeak\")\n",
    "voices = engine.getProperty('voices')"
   ]
  },
  {
   "cell_type": "code",
   "execution_count": 27,
   "id": "446b94fa",
   "metadata": {},
   "outputs": [
    {
     "name": "stdout",
     "output_type": "stream",
     "text": [
      "[b'\\x02en-gb']\n"
     ]
    }
   ],
   "source": [
    "print(voices[11].languages)"
   ]
  },
  {
   "cell_type": "code",
   "execution_count": 33,
   "id": "8f749416",
   "metadata": {},
   "outputs": [],
   "source": [
    "# https://askubuntu.com/questions/1298356/espeak-text-to-speech-sounds-very-weird-while-running-pyttsx3-code-on-ubuntu-20\n",
    "\n",
    "def speak_text_v2(command):\n",
    "    engine = pyttsx3.init(\"espeak\")\n",
    "    voices = engine.getProperty('voices')\n",
    "    engine.setProperty('voice',voices[11].id) #English\n",
    "    engine.say(command)\n",
    "    engine.runAndWait()\n",
    "\n",
    "# Still bad\n",
    "speak_text_v2(\"Hello World and this is a test.\")"
   ]
  },
  {
   "cell_type": "code",
   "execution_count": 40,
   "id": "de2fa580",
   "metadata": {},
   "outputs": [],
   "source": [
    "\n",
    "def speak_text_v3(command):\n",
    "    engine = pyttsx3.init(\"espeak\")\n",
    "    voices = engine.getProperty('voices')\n",
    "    engine.setProperty('voice',voices[10].id) #English\n",
    "    engine. setProperty(\"rate\", 156)\n",
    "    engine.say(command)\n",
    "    engine.runAndWait()\n",
    "\n",
    "speak_text_v3(\"Hello World and this is a test.\")"
   ]
  },
  {
   "cell_type": "markdown",
   "id": "e7330c36",
   "metadata": {},
   "source": [
    "### Recognize voice and output it with TTS"
   ]
  },
  {
   "cell_type": "code",
   "execution_count": 42,
   "id": "b284b0c1",
   "metadata": {},
   "outputs": [
    {
     "name": "stdout",
     "output_type": "stream",
     "text": [
      "Recognized: hello this is a test\n",
      "Exiting loop\n"
     ]
    }
   ],
   "source": [
    "def recognize_and_speak():\n",
    "    recognizer = speech_recognition.Recognizer()\n",
    "    while True:\n",
    "        try:\n",
    "            with speech_recognition.Microphone() as mic:\n",
    "                recognizer.adjust_for_ambient_noise(mic, duration=0.2)\n",
    "                audio = recognizer.listen(mic)\n",
    "                text = recognizer.recognize_google(audio)\n",
    "                text = text.lower()\n",
    "                print(f\"Recognized: {text}\")\n",
    "                speak_text_v3(text)\n",
    "        except speech_recognition.UnknownValueError:\n",
    "            recognizer = speech_recognition.Recognizer()\n",
    "            continue\n",
    "        except KeyboardInterrupt:\n",
    "            print(\"Exiting loop\")\n",
    "            break\n",
    "        except Exception as e:\n",
    "            print(e)\n",
    "            break\n",
    "            \n",
    "recognize_and_speak()"
   ]
  },
  {
   "cell_type": "markdown",
   "id": "8ed45a85",
   "metadata": {},
   "source": [
    "### Open a website"
   ]
  },
  {
   "cell_type": "code",
   "execution_count": 43,
   "id": "91edb82d",
   "metadata": {},
   "outputs": [],
   "source": [
    "import webbrowser as web"
   ]
  },
  {
   "cell_type": "code",
   "execution_count": 47,
   "id": "c04b04c8",
   "metadata": {},
   "outputs": [
    {
     "name": "stdout",
     "output_type": "stream",
     "text": [
      "Opening in existing browser session.\n"
     ]
    },
    {
     "data": {
      "text/plain": [
       "True"
      ]
     },
     "execution_count": 47,
     "metadata": {},
     "output_type": "execute_result"
    }
   ],
   "source": [
    "CHROME_PATH = '/usr/bin/google-chrome %s'\n",
    "url = \"dataista.com.ar\"\n",
    "web.get(CHROME_PATH).open(url)"
   ]
  },
  {
   "cell_type": "markdown",
   "id": "f2a33237",
   "metadata": {},
   "source": [
    "# Voice command script"
   ]
  },
  {
   "cell_type": "code",
   "execution_count": 63,
   "id": "8deb92d8",
   "metadata": {},
   "outputs": [
    {
     "name": "stdout",
     "output_type": "stream",
     "text": [
      "Overwriting ../src/asr_url_opener.py\n"
     ]
    }
   ],
   "source": [
    "%%writefile ../src/asr_url_opener.py\n",
    "\n",
    "import sys\n",
    "import webbrowser as web\n",
    "import speech_recognition as sr\n",
    "CHROME_PATH = '/usr/bin/google-chrome %s'\n",
    "\n",
    "import warnings; warnings.simplefilter('ignore')\n",
    "\n",
    "def open_url(url):\n",
    "    web.get(CHROME_PATH).open(url)\n",
    "\n",
    "def text_to_command(text):\n",
    "    print(f\"Recognized: {text}\")\n",
    "    if text.startswith(\"open url\"):\n",
    "        url = text.replace(\"open url\", \"\")\n",
    "        open_url(url)\n",
    "    if text == 'exit':\n",
    "        print(\"Exiting\")\n",
    "        sys.exit()\n",
    "        \n",
    "    \n",
    "def main_loop():\n",
    "    r = sr.Recognizer()\n",
    "    while True:\n",
    "        try:\n",
    "            with sr.Microphone() as mic:\n",
    "                r.adjust_for_ambient_noise(mic, duration=0.2)\n",
    "                audio = r.listen(mic)\n",
    "                text = r.recognize_google(audio)\n",
    "                text = text.lower()\n",
    "                text_to_command(text)\n",
    "                \n",
    "        except sr.UnknownValueError:\n",
    "            recognizer = sr.Recognizer()\n",
    "            continue\n",
    "        except KeyboardInterrupt:\n",
    "            print(\"Exiting main loop\")\n",
    "            break\n",
    "        except Exception as e:\n",
    "            print(e)\n",
    "            recognizer = sr.Recognizer()\n",
    "            continue\n",
    "    \n",
    "if __name__ == '__main__':\n",
    "    main_loop()\n",
    "    "
   ]
  },
  {
   "cell_type": "code",
   "execution_count": 62,
   "id": "a5875f80",
   "metadata": {},
   "outputs": [
    {
     "name": "stdout",
     "output_type": "stream",
     "text": [
      "ALSA lib pcm.c:2642:(snd_pcm_open_noupdate) Unknown PCM cards.pcm.rear\n",
      "ALSA lib pcm.c:2642:(snd_pcm_open_noupdate) Unknown PCM cards.pcm.center_lfe\n",
      "ALSA lib pcm.c:2642:(snd_pcm_open_noupdate) Unknown PCM cards.pcm.side\n",
      "ALSA lib pcm_route.c:869:(find_matching_chmap) Found no matching channel map\n",
      "ALSA lib pcm_route.c:869:(find_matching_chmap) Found no matching channel map\n",
      "ALSA lib pcm_route.c:869:(find_matching_chmap) Found no matching channel map\n",
      "ALSA lib pcm_route.c:869:(find_matching_chmap) Found no matching channel map\n",
      "ALSA lib pcm_oss.c:377:(_snd_pcm_oss_open) Unknown field port\n",
      "ALSA lib pcm_oss.c:377:(_snd_pcm_oss_open) Unknown field port\n",
      "ALSA lib pcm_usb_stream.c:486:(_snd_pcm_usb_stream_open) Invalid type for card\n",
      "ALSA lib pcm_usb_stream.c:486:(_snd_pcm_usb_stream_open) Invalid type for card\n",
      "Recognized: hello this is a test\n",
      "Recognized: open euro twitter.com\n",
      "Recognized: open url twitter.com\n",
      "Opening in existing browser session.\n",
      "Recognized: open url google.com\n",
      "Opening in existing browser session.\n",
      "Recognized: exit\n",
      "Exiting\n"
     ]
    }
   ],
   "source": [
    "!python ../src/asr_url_opener.py"
   ]
  },
  {
   "cell_type": "markdown",
   "id": "a54fea41",
   "metadata": {},
   "source": [
    "To solve the error / warnings:\n",
    "https://stackoverflow.com/questions/7088672/pyaudio-working-but-spits-out-error-messages-each-time\n",
    "\n",
    "\n",
    "To run in background:\n",
    "\n",
    "```bash\n",
    "mkdir logs/\n",
    "cd src/\n",
    "python asr_url_opener.py > ../logs/asr_url_opener.log 2>&1 &\n",
    "```\n",
    "\n",
    "The script [scripts/asr_url_opener.sh](../scripts/asr_url_opener.sh) runs in a slight improvement of the code above:"
   ]
  },
  {
   "cell_type": "code",
   "execution_count": 64,
   "id": "550e6f42",
   "metadata": {},
   "outputs": [
    {
     "name": "stdout",
     "output_type": "stream",
     "text": [
      "#!/bin/sh\r\n",
      "# Run from the scripts/ path as ./asr_url_opener.sh\r\n",
      "# Make sure you are in the environment with speech_recognition installed!\r\n",
      "python -u ../src/asr_url_opener.py  >> ../logs/asr_url_opener.log 2>&1 & \r\n"
     ]
    }
   ],
   "source": [
    "!cat ../scripts/asr_url_opener.sh"
   ]
  },
  {
   "cell_type": "markdown",
   "id": "b315d24c",
   "metadata": {},
   "source": [
    "It's actually running and working now...! :D"
   ]
  }
 ],
 "metadata": {
  "kernelspec": {
   "display_name": "Python 3 (ipykernel)",
   "language": "python",
   "name": "python3"
  },
  "language_info": {
   "codemirror_mode": {
    "name": "ipython",
    "version": 3
   },
   "file_extension": ".py",
   "mimetype": "text/x-python",
   "name": "python",
   "nbconvert_exporter": "python",
   "pygments_lexer": "ipython3",
   "version": "3.8.12"
  }
 },
 "nbformat": 4,
 "nbformat_minor": 5
}
